{
 "cells": [
  {
   "cell_type": "code",
   "execution_count": 2,
   "metadata": {},
   "outputs": [],
   "source": [
    "import numpy as np\n",
    "from numpy import genfromtxt\n",
    "my_data = []\n",
    "my_data.append(genfromtxt('../data/rates_t150_y2008.csv', delimiter=','))\n",
    "my_data.append(genfromtxt('../data/rates_t150_y2009.csv', delimiter=','))\n",
    "my_data.append(genfromtxt('../data/rates_t150_y2010.csv', delimiter=','))\n",
    "my_data.append(genfromtxt('../data/rates_t150_y2011.csv', delimiter=','))\n",
    "my_data.append(genfromtxt('../data/rates_t150_y2012.csv', delimiter=','))\n",
    "my_data.append(genfromtxt('../data/rates_t150_y2013.csv', delimiter=','))\n",
    "my_data.append(genfromtxt('../data/rates_t150_y2014.csv', delimiter=','))\n",
    "my_data.append(genfromtxt('../data/rates_t150_y2015.csv', delimiter=','))\n",
    "my_data.append(genfromtxt('../data/rates_t150_y2016.csv', delimiter=','))\n",
    "my_data.append(genfromtxt('../data/rates_t150_y2017.csv', delimiter=','))\n"
   ]
  },
  {
   "cell_type": "code",
   "execution_count": 8,
   "metadata": {},
   "outputs": [
    {
     "name": "stdout",
     "output_type": "stream",
     "text": [
      "10\n",
      "(132, 4)\n",
      "(32, 4)\n",
      "(12, 4)\n",
      "(27, 4)\n",
      "(74, 4)\n",
      "(52, 4)\n",
      "(60, 4)\n",
      "(79, 4)\n",
      "(33, 4)\n",
      "(120, 4)\n",
      "(10,)\n"
     ]
    }
   ],
   "source": [
    "print (len(my_data))\n",
    "for data in my_data:\n",
    "    print(data.shape)\n",
    "\n"
   ]
  },
  {
   "cell_type": "code",
   "execution_count": 5,
   "metadata": {},
   "outputs": [],
   "source": [
    "my_era = []\n",
    "my_era.append(genfromtxt('../data/sp_t2m_d2md_s10_tp_lai_lv_swvl1_t150_2008.csv', delimiter=','))\n",
    "my_era.append(genfromtxt('../data/sp_t2m_d2md_s10_tp_lai_lv_swvl1_t150_2009.csv', delimiter=','))\n",
    "my_era.append(genfromtxt('../data/sp_t2m_d2md_s10_tp_lai_lv_swvl1_t150_2010.csv', delimiter=','))\n",
    "my_era.append(genfromtxt('../data/sp_t2m_d2md_s10_tp_lai_lv_swvl1_t150_2011.csv', delimiter=','))\n",
    "my_era.append(genfromtxt('../data/sp_t2m_d2md_s10_tp_lai_lv_swvl1_t150_2012.csv', delimiter=','))\n",
    "my_era.append(genfromtxt('../data/sp_t2m_d2md_s10_tp_lai_lv_swvl1_t150_2013.csv', delimiter=','))\n",
    "my_era.append(genfromtxt('../data/sp_t2m_d2md_s10_tp_lai_lv_swvl1_t150_2014.csv', delimiter=','))\n",
    "my_era.append(genfromtxt('../data/sp_t2m_d2md_s10_tp_lai_lv_swvl1_t150_2015.csv', delimiter=','))\n",
    "my_era.append(genfromtxt('../data/sp_t2m_d2md_s10_tp_lai_lv_swvl1_t150_2016.csv', delimiter=','))\n",
    "my_era.append(genfromtxt('../data/sp_t2m_d2md_s10_tp_lai_lv_swvl1_t150_2017.csv', delimiter=','))\n"
   ]
  },
  {
   "cell_type": "code",
   "execution_count": 6,
   "metadata": {},
   "outputs": [
    {
     "name": "stdout",
     "output_type": "stream",
     "text": [
      "10\n",
      "(132, 7)\n",
      "(32, 7)\n",
      "(12, 7)\n",
      "(27, 7)\n",
      "(74, 7)\n",
      "(52, 7)\n",
      "(60, 7)\n",
      "(79, 7)\n",
      "(33, 7)\n",
      "(120, 7)\n"
     ]
    }
   ],
   "source": [
    "print(len(my_era))\n",
    "for data in my_era:\n",
    "    print(data.shape)"
   ]
  },
  {
   "cell_type": "code",
   "execution_count": 15,
   "metadata": {},
   "outputs": [
    {
     "name": "stdout",
     "output_type": "stream",
     "text": [
      "59\n",
      "19\n",
      "19\n"
     ]
    }
   ],
   "source": []
  },
  {
   "cell_type": "code",
   "execution_count": 11,
   "metadata": {},
   "outputs": [],
   "source": [
    "y = np.zeros((366,101,101))\n",
    "#for i in range(len(my_data)):\n",
    "#    time = int(my_data[i][0])\n",
    "#    lat = int(my_data[i][1])\n",
    "#    lon = int(my_data[i][2])\n",
    "#    y[time][lat][lon] = 1\n",
    "    "
   ]
  },
  {
   "cell_type": "code",
   "execution_count": 12,
   "metadata": {},
   "outputs": [],
   "source": [
    "import matplotlib.pyplot as plt\n",
    "import numpy as np\n",
    "import tensorflow as tf\n",
    "#from sklearn import datasets\n",
    "from netCDF4 import Dataset\n",
    "sess = tf.Session()"
   ]
  },
  {
   "cell_type": "code",
   "execution_count": 13,
   "metadata": {},
   "outputs": [],
   "source": [
    "rootgrp2 = Dataset(\"../data/cal_era5_2008.nc\", \"r\", format=\"NETCDF4\")\n",
    "swvl1 = rootgrp2.variables[\"swvl1\"]\n",
    "d2m = rootgrp2.variables[\"d2m\"]\n",
    "rootgrp1 = Dataset(\"../data/cal_cams_gfas.nc\", \"r\", format=\"NETCDF4\")\n",
    "frpfire = rootgrp1.variables[\"frpfire\"]"
   ]
  },
  {
   "cell_type": "code",
   "execution_count": 14,
   "metadata": {},
   "outputs": [
    {
     "ename": "IndexError",
     "evalue": "arrays used as indices must be of integer (or boolean) type",
     "output_type": "error",
     "traceback": [
      "\u001b[0;31m---------------------------------------------------------------------------\u001b[0m",
      "\u001b[0;31mIndexError\u001b[0m                                Traceback (most recent call last)",
      "\u001b[0;32m<ipython-input-14-c72eef604320>\u001b[0m in \u001b[0;36m<module>\u001b[0;34m()\u001b[0m\n\u001b[0;32m----> 1\u001b[0;31m \u001b[0mx1_vals\u001b[0m \u001b[0;34m=\u001b[0m \u001b[0mnp\u001b[0m\u001b[0;34m.\u001b[0m\u001b[0marray\u001b[0m\u001b[0;34m(\u001b[0m\u001b[0mswvl1\u001b[0m\u001b[0;34m[\u001b[0m\u001b[0;36m0\u001b[0m\u001b[0;34m:\u001b[0m\u001b[0;36m365\u001b[0m\u001b[0;34m]\u001b[0m\u001b[0;34m[\u001b[0m\u001b[0mlat\u001b[0m\u001b[0;34m]\u001b[0m\u001b[0;34m[\u001b[0m\u001b[0mlon\u001b[0m\u001b[0;34m]\u001b[0m\u001b[0;34m)\u001b[0m\u001b[0;34m\u001b[0m\u001b[0m\n\u001b[0m\u001b[1;32m      2\u001b[0m \u001b[0mx2_vals\u001b[0m \u001b[0;34m=\u001b[0m \u001b[0mnp\u001b[0m\u001b[0;34m.\u001b[0m\u001b[0marray\u001b[0m\u001b[0;34m(\u001b[0m\u001b[0md2m\u001b[0m\u001b[0;34m[\u001b[0m\u001b[0;36m0\u001b[0m\u001b[0;34m:\u001b[0m\u001b[0;36m365\u001b[0m\u001b[0;34m]\u001b[0m\u001b[0;34m[\u001b[0m\u001b[0mlat\u001b[0m\u001b[0;34m]\u001b[0m\u001b[0;34m[\u001b[0m\u001b[0mlon\u001b[0m\u001b[0;34m]\u001b[0m\u001b[0;34m)\u001b[0m\u001b[0;34m\u001b[0m\u001b[0m\n\u001b[1;32m      3\u001b[0m \u001b[0my_vals\u001b[0m \u001b[0;34m=\u001b[0m \u001b[0mnp\u001b[0m\u001b[0;34m.\u001b[0m\u001b[0marray\u001b[0m\u001b[0;34m(\u001b[0m\u001b[0mfrpfire\u001b[0m\u001b[0;34m[\u001b[0m\u001b[0;36m0\u001b[0m\u001b[0;34m:\u001b[0m\u001b[0;36m365\u001b[0m\u001b[0;34m]\u001b[0m\u001b[0;34m[\u001b[0m\u001b[0mlat\u001b[0m\u001b[0;34m]\u001b[0m\u001b[0;34m[\u001b[0m\u001b[0mlon\u001b[0m\u001b[0;34m]\u001b[0m\u001b[0;34m)\u001b[0m\u001b[0;34m\u001b[0m\u001b[0m\n\u001b[1;32m      4\u001b[0m \u001b[0my_vals\u001b[0m\u001b[0;34m[\u001b[0m\u001b[0my_vals\u001b[0m \u001b[0;34m<\u001b[0m \u001b[0;36m0.1\u001b[0m\u001b[0;34m]\u001b[0m \u001b[0;34m=\u001b[0m \u001b[0;36m0.0\u001b[0m\u001b[0;34m\u001b[0m\u001b[0m\n\u001b[1;32m      5\u001b[0m \u001b[0my_vals\u001b[0m\u001b[0;34m[\u001b[0m\u001b[0my_vals\u001b[0m \u001b[0;34m>=\u001b[0m \u001b[0;36m0.1\u001b[0m\u001b[0;34m]\u001b[0m \u001b[0;34m=\u001b[0m \u001b[0;36m1.0\u001b[0m\u001b[0;34m\u001b[0m\u001b[0m\n",
      "\u001b[0;32m/Library/Frameworks/Python.framework/Versions/3.6/lib/python3.6/site-packages/numpy/ma/core.py\u001b[0m in \u001b[0;36m__getitem__\u001b[0;34m(self, indx)\u001b[0m\n\u001b[1;32m   3187\u001b[0m         \u001b[0;31m# mask of being reshaped if it hasn't been set up properly yet\u001b[0m\u001b[0;34m\u001b[0m\u001b[0;34m\u001b[0m\u001b[0m\n\u001b[1;32m   3188\u001b[0m         \u001b[0;31m# So it's easier to stick to the current version\u001b[0m\u001b[0;34m\u001b[0m\u001b[0;34m\u001b[0m\u001b[0m\n\u001b[0;32m-> 3189\u001b[0;31m         \u001b[0mdout\u001b[0m \u001b[0;34m=\u001b[0m \u001b[0mself\u001b[0m\u001b[0;34m.\u001b[0m\u001b[0mdata\u001b[0m\u001b[0;34m[\u001b[0m\u001b[0mindx\u001b[0m\u001b[0;34m]\u001b[0m\u001b[0;34m\u001b[0m\u001b[0m\n\u001b[0m\u001b[1;32m   3190\u001b[0m         \u001b[0m_mask\u001b[0m \u001b[0;34m=\u001b[0m \u001b[0mself\u001b[0m\u001b[0;34m.\u001b[0m\u001b[0m_mask\u001b[0m\u001b[0;34m\u001b[0m\u001b[0m\n\u001b[1;32m   3191\u001b[0m \u001b[0;34m\u001b[0m\u001b[0m\n",
      "\u001b[0;31mIndexError\u001b[0m: arrays used as indices must be of integer (or boolean) type"
     ]
    }
   ],
   "source": [
    "x1_vals = np.zeros(365, len(lat), len(lon))\n",
    "x2_vals = np.zeros(365, len(lat), len(lon))\n",
    "y_vals = np.zeros(365, len(lat), len(lon))\n",
    "\n",
    "for i in range(len(lat)):\n",
    "    for j in range(len(lon)):\n",
    "        x1_vals = \n",
    "x1_vals = np.array(swvl1[0:365][lat][lon])\n",
    "x2_vals = np.array(d2m[0:365][lat][lon])\n",
    "y_vals = np.array(frpfire[0:365][lat][lon])\n",
    "y_vals[y_vals < 0.1] = 0.0\n",
    "y_vals[y_vals >= 0.1] = 1.0\n",
    "x1_vals[x1_vals < 0.01] = 0.0\n",
    "x2_vals[x2_vals < 0.01] = 0.0\n",
    "print(x1_vals.shape)\n",
    "print(x2_vals.shape)\n",
    "print(y_vals.shape)\n"
   ]
  },
  {
   "cell_type": "code",
   "execution_count": 8,
   "metadata": {},
   "outputs": [],
   "source": [
    "x1_data = tf.placeholder(shape=[None, 1], dtype=tf.float32)\n",
    "x2_data = tf.placeholder(shape=[None, 1], dtype=tf.float32)\n",
    "y_target = tf.placeholder(shape=[None, 1], dtype=tf.float32)\n",
    "A = tf.Variable(tf.random_normal(shape=[1, 1]))\n",
    "b = tf.Variable(tf.random_normal(shape=[1, 1]))"
   ]
  },
  {
   "cell_type": "code",
   "execution_count": 9,
   "metadata": {},
   "outputs": [],
   "source": [
    "my_mult = tf.matmul(x2_data, A)\n",
    "my_add = tf.add(my_mult, b)\n",
    "my_output = tf.subtract(x1_data, my_add)"
   ]
  },
  {
   "cell_type": "code",
   "execution_count": 10,
   "metadata": {},
   "outputs": [],
   "source": [
    "xentropy = tf.nn.sigmoid_cross_entropy_with_logits(logits=my_output, labels=y_target)\n",
    "loss = tf.reduce_mean(tf.nn.sigmoid_cross_entropy_with_logits(logits=my_output, labels=y_target))"
   ]
  },
  {
   "cell_type": "code",
   "execution_count": 11,
   "metadata": {},
   "outputs": [],
   "source": [
    "my_opt = tf.train.GradientDescentOptimizer(0.05)\n",
    "train_step = my_opt.minimize(xentropy)"
   ]
  },
  {
   "cell_type": "code",
   "execution_count": 12,
   "metadata": {},
   "outputs": [],
   "source": [
    "init = tf.global_variables_initializer()\n",
    "sess.run(init)"
   ]
  },
  {
   "cell_type": "code",
   "execution_count": 13,
   "metadata": {},
   "outputs": [
    {
     "name": "stdout",
     "output_type": "stream",
     "text": [
      "(2978692, 1)\n",
      "(2978692, 1)\n",
      "(744673, 1)\n",
      "(744673, 1)\n",
      "(2978692, 1)\n",
      "(744673, 1)\n"
     ]
    }
   ],
   "source": [
    "train_indices = np.random.choice(365, round(365*0.8), replace=False)\n",
    "test_indices = np.array(list(set(range(365)) - set(train_indices)))\n",
    "#print(train_indices)\n",
    "#print(test_indices)\n",
    "x1_vals_train = x1_vals[train_indices][:][:].reshape(-1,1)\n",
    "x1_vals_test = x1_vals[test_indices][:][:].reshape(-1,1)\n",
    "x2_vals_train = x2_vals[train_indices][:][:].reshape(-1,1)\n",
    "x2_vals_test = x2_vals[test_indices][:][:].reshape(-1,1)\n",
    "y_vals_train = y_vals[train_indices][:][:].reshape(-1,1)\n",
    "y_vals_test = y_vals[test_indices][:][:].reshape(-1,1)\n",
    "\n",
    "print(x1_vals_train.shape)\n",
    "print(x2_vals_train.shape)\n",
    "print(x1_vals_test.shape)\n",
    "print(x2_vals_test.shape)\n",
    "print(y_vals_train.shape)\n",
    "print(y_vals_test.shape)\n",
    "\n",
    "prediction = tf.round(tf.sigmoid(my_output))\n",
    "predictions_correct = tf.cast(tf.equal(prediction, y_target), tf.float32)\n",
    "accuracy = tf.reduce_mean(predictions_correct)"
   ]
  },
  {
   "cell_type": "code",
   "execution_count": 14,
   "metadata": {},
   "outputs": [
    {
     "name": "stdout",
     "output_type": "stream",
     "text": [
      "Step #5 A = [[141059.03]], b = [[503.4912]]\n",
      "Loss = 0.0\n",
      "acc train = 0.9985215\n",
      "acc test = 0.99901164\n",
      "Step #10 A = [[140479.3]], b = [[501.3912]]\n",
      "Loss = 0.0\n",
      "acc train = 0.9985215\n",
      "acc test = 0.99901164\n",
      "Step #15 A = [[139913.2]], b = [[499.2912]]\n",
      "Loss = 0.0\n",
      "acc train = 0.9985215\n",
      "acc test = 0.99901164\n",
      "Step #20 A = [[139286.]], b = [[497.0412]]\n",
      "Loss = 29789.91\n",
      "acc train = 0.9985215\n",
      "acc test = 0.99901164\n",
      "Step #25 A = [[138905.52]], b = [[495.64117]]\n",
      "Loss = 15193.5625\n",
      "acc train = 0.9985215\n",
      "acc test = 0.99901164\n",
      "Step #30 A = [[138182.22]], b = [[493.0412]]\n",
      "Loss = 22175.945\n",
      "acc train = 0.9985215\n",
      "acc test = 0.99901164\n",
      "Step #35 A = [[136477.3]], b = [[486.84122]]\n",
      "Loss = 95351.67\n",
      "acc train = 0.9985215\n",
      "acc test = 0.99901164\n",
      "Step #40 A = [[133611.75]], b = [[476.5912]]\n",
      "Loss = 482196.9\n",
      "acc train = 0.9985215\n",
      "acc test = 0.99901164\n",
      "Step #45 A = [[133178.42]], b = [[474.99115]]\n",
      "Loss = 13505.822\n",
      "acc train = 0.9985215\n",
      "acc test = 0.99901164\n",
      "Step #50 A = [[131907.66]], b = [[470.49115]]\n",
      "Loss = 21346.676\n",
      "acc train = 0.9985215\n",
      "acc test = 0.99901164\n",
      "Step #55 A = [[130541.16]], b = [[465.59116]]\n",
      "Loss = 204009.8\n",
      "acc train = 0.9985215\n",
      "acc test = 0.99901164\n",
      "Step #60 A = [[128517.305]], b = [[458.29114]]\n",
      "Loss = 0.0\n",
      "acc train = 0.9985215\n",
      "acc test = 0.99901164\n",
      "Step #65 A = [[126593.555]], b = [[451.4411]]\n",
      "Loss = 13870.7295\n",
      "acc train = 0.9985215\n",
      "acc test = 0.99901164\n",
      "Step #70 A = [[125275.34]], b = [[446.6411]]\n",
      "Loss = 34238.438\n",
      "acc train = 0.9985215\n",
      "acc test = 0.99901164\n",
      "Step #75 A = [[124818.1]], b = [[444.9911]]\n",
      "Loss = 13174.633\n",
      "acc train = 0.9985215\n",
      "acc test = 0.99901164\n",
      "Step #80 A = [[124543.44]], b = [[443.9911]]\n",
      "Loss = 0.0\n",
      "acc train = 0.9985215\n",
      "acc test = 0.99901164\n",
      "Step #85 A = [[124123.445]], b = [[442.44107]]\n",
      "Loss = 13028.489\n",
      "acc train = 0.9985215\n",
      "acc test = 0.99901164\n",
      "Step #90 A = [[122975.8]], b = [[438.3411]]\n",
      "Loss = 70731.29\n",
      "acc train = 0.9985215\n",
      "acc test = 0.99901164\n",
      "Step #95 A = [[121265.31]], b = [[432.24112]]\n",
      "Loss = 16641.838\n",
      "acc train = 0.9985215\n",
      "acc test = 0.99901164\n",
      "Step #100 A = [[121044.39]], b = [[431.4411]]\n",
      "Loss = 13433.424\n",
      "acc train = 0.9985215\n",
      "acc test = 0.99901164\n",
      "Step #105 A = [[118920.875]], b = [[423.8411]]\n",
      "Loss = 29154.795\n",
      "acc train = 0.9985215\n",
      "acc test = 0.99901164\n",
      "Step #110 A = [[118420.734]], b = [[422.0411]]\n",
      "Loss = 25050.156\n",
      "acc train = 0.9985215\n",
      "acc test = 0.99901164\n",
      "Step #115 A = [[117229.984]], b = [[417.7911]]\n",
      "Loss = 182511.77\n",
      "acc train = 0.9985215\n",
      "acc test = 0.99901164\n",
      "Step #120 A = [[114879.84]], b = [[409.39108]]\n",
      "Loss = 12396.784\n",
      "acc train = 0.9985215\n",
      "acc test = 0.99901164\n",
      "Step #125 A = [[112578.88]], b = [[401.14108]]\n",
      "Loss = 0.0\n",
      "acc train = 0.9985215\n",
      "acc test = 0.99901164\n",
      "Step #130 A = [[111381.32]], b = [[396.8411]]\n",
      "Loss = 47248.094\n",
      "acc train = 0.9985215\n",
      "acc test = 0.99901164\n",
      "Step #135 A = [[111103.59]], b = [[395.8411]]\n",
      "Loss = 12082.305\n",
      "acc train = 0.9985215\n",
      "acc test = 0.99901164\n",
      "Step #140 A = [[108287.06]], b = [[385.74106]]\n",
      "Loss = 245037.67\n",
      "acc train = 0.9985215\n",
      "acc test = 0.99901164\n",
      "Step #145 A = [[107705.66]], b = [[383.64102]]\n",
      "Loss = 11630.954\n",
      "acc train = 0.9985215\n",
      "acc test = 0.99901164\n",
      "Step #150 A = [[107108.92]], b = [[381.49103]]\n",
      "Loss = 47436.35\n",
      "acc train = 0.9985215\n",
      "acc test = 0.99901164\n",
      "Step #155 A = [[106420.414]], b = [[378.99106]]\n",
      "Loss = 23236.928\n",
      "acc train = 0.9985215\n",
      "acc test = 0.99901164\n",
      "Step #160 A = [[105880.76]], b = [[377.04105]]\n",
      "Loss = 14514.622\n",
      "acc train = 0.9985215\n",
      "acc test = 0.99901164\n",
      "Step #165 A = [[104084.81]], b = [[370.69107]]\n",
      "Loss = 38045.727\n",
      "acc train = 0.9985215\n",
      "acc test = 0.99901164\n",
      "Step #170 A = [[103418.55]], b = [[368.24106]]\n",
      "Loss = 0.0\n",
      "acc train = 0.9985215\n",
      "acc test = 0.99901164\n",
      "Step #175 A = [[102035.4]], b = [[363.29108]]\n",
      "Loss = 13809.953\n",
      "acc train = 0.9985215\n",
      "acc test = 0.99901164\n",
      "Step #180 A = [[101359.71]], b = [[360.79108]]\n",
      "Loss = 67052.95\n",
      "acc train = 0.9985215\n",
      "acc test = 0.99901164\n",
      "Step #185 A = [[100730.914]], b = [[358.54108]]\n",
      "Loss = 0.0\n",
      "acc train = 0.9985215\n",
      "acc test = 0.99901164\n",
      "Step #190 A = [[100471.195]], b = [[357.5911]]\n",
      "Loss = 2661.554\n",
      "acc train = 0.9985215\n",
      "acc test = 0.99901164\n",
      "Step #195 A = [[99428.836]], b = [[353.8411]]\n",
      "Loss = 38077.336\n",
      "acc train = 0.9985215\n",
      "acc test = 0.99901164\n",
      "Step #200 A = [[99240.164]], b = [[353.14108]]\n",
      "Loss = 0.0\n",
      "acc train = 0.9985215\n",
      "acc test = 0.99901164\n",
      "Step #205 A = [[97875.375]], b = [[348.2411]]\n",
      "Loss = 156890.22\n",
      "acc train = 0.9985215\n",
      "acc test = 0.99901164\n",
      "Step #210 A = [[97161.234]], b = [[345.64108]]\n",
      "Loss = 33001.805\n",
      "acc train = 0.9985215\n",
      "acc test = 0.99901164\n",
      "Step #215 A = [[96676.414]], b = [[343.89108]]\n",
      "Loss = 0.0\n",
      "acc train = 0.9985215\n",
      "acc test = 0.99901164\n",
      "Step #220 A = [[96182.75]], b = [[342.09106]]\n",
      "Loss = 52455.086\n",
      "acc train = 0.9985215\n",
      "acc test = 0.99901164\n",
      "Step #225 A = [[93607.82]], b = [[332.84103]]\n",
      "Loss = 9704.816\n",
      "acc train = 0.9985215\n",
      "acc test = 0.99901164\n",
      "Step #230 A = [[92744.96]], b = [[329.79102]]\n",
      "Loss = 136775.12\n",
      "acc train = 0.9985215\n",
      "acc test = 0.99901164\n",
      "Step #235 A = [[90245.57]], b = [[320.89102]]\n",
      "Loss = 0.0\n",
      "acc train = 0.9985215\n",
      "acc test = 0.99901164\n",
      "Step #240 A = [[89291.47]], b = [[317.491]]\n",
      "Loss = 128403.445\n",
      "acc train = 0.9985215\n",
      "acc test = 0.99901164\n",
      "Step #245 A = [[89125.914]], b = [[316.891]]\n",
      "Loss = 0.0\n",
      "acc train = 0.9985215\n",
      "acc test = 0.99901164\n",
      "Step #250 A = [[88638.52]], b = [[315.141]]\n",
      "Loss = 9230.48\n",
      "acc train = 0.9985215\n",
      "acc test = 0.99901164\n",
      "Step #255 A = [[87919.63]], b = [[312.54102]]\n",
      "Loss = 31359.152\n",
      "acc train = 0.9985215\n",
      "acc test = 0.99901164\n",
      "Step #260 A = [[87479.18]], b = [[310.941]]\n",
      "Loss = 0.0\n",
      "acc train = 0.9985215\n",
      "acc test = 0.99901164\n",
      "Step #265 A = [[86058.93]], b = [[305.841]]\n",
      "Loss = 0.0\n",
      "acc train = 0.9985215\n",
      "acc test = 0.99901164\n",
      "Step #270 A = [[84755.695]], b = [[301.19104]]\n",
      "Loss = 47689.2\n",
      "acc train = 0.9985215\n",
      "acc test = 0.99901164\n",
      "Step #275 A = [[83070.58]], b = [[295.09103]]\n",
      "Loss = 0.0\n",
      "acc train = 0.9985215\n",
      "acc test = 0.99901164\n",
      "Step #280 A = [[82787.23]], b = [[294.041]]\n",
      "Loss = 0.0\n",
      "acc train = 0.9985215\n",
      "acc test = 0.99901164\n",
      "Step #285 A = [[82388.72]], b = [[292.59097]]\n",
      "Loss = 35220.617\n",
      "acc train = 0.9985215\n",
      "acc test = 0.99901164\n",
      "Step #290 A = [[81823.27]], b = [[290.54095]]\n",
      "Loss = 32597.426\n",
      "acc train = 0.9985215\n",
      "acc test = 0.99901164\n"
     ]
    }
   ],
   "source": [
    "loss_vec = []\n",
    "train_acc = []\n",
    "test_acc = []\n",
    "for i in range(len(train_indices)):\n",
    "    rand_index = train_indices[i]\n",
    "    x1 = x1_vals[rand_index][:][:].reshape(101*101,1)\n",
    "    x2 = x2_vals[rand_index][:][:].reshape(101*101,1)\n",
    "    y  = y_vals[rand_index][:][:].reshape(101*101,1)\n",
    "    sess.run(train_step, feed_dict={x1_data: x1, x2_data:x2, y_target: y})\n",
    "    temp_loss = sess.run(loss, feed_dict={x1_data: x1, x2_data:x2, y_target: y})\n",
    "    loss_vec.append(temp_loss)\n",
    "    temp_acc_train = sess.run(accuracy, feed_dict={x1_data: x1_vals_train, x2_data: x2_vals_train, y_target: y_vals_train})\n",
    "    train_acc.append(temp_acc_train)\n",
    "    temp_acc_test = sess.run(accuracy, feed_dict={x1_data: x1_vals_test, x2_data: x2_vals_test, y_target: y_vals_test})\n",
    "    test_acc.append(temp_acc_test)\n",
    "    if (i+1)%5==0:\n",
    "        print('Step #' + str(i+1) + ' A = ' + str(sess.run(A)) +', b = ' + str(sess.run(b)))\n",
    "        print('Loss = ' + str(temp_loss))\n",
    "        print('acc train = ' + str(temp_acc_train))\n",
    "        print('acc test = ' + str(temp_acc_test))"
   ]
  },
  {
   "cell_type": "code",
   "execution_count": 15,
   "metadata": {},
   "outputs": [
    {
     "name": "stdout",
     "output_type": "stream",
     "text": [
      "[275 175 115 100 169  61 329 243  63 276 187 330 354 283 171 218 268 292\n",
      "  84 317  14 222 294  46 153 198  32 213 255   1  65 332 214  85 164 278\n",
      " 206 225 309 118  33 132 338 215 269 246 296 322 251 295  50 271 282  93\n",
      " 353 342 232 139  47 328  13 265  83 137 239 289  31  68 229  22 149 352\n",
      " 341  17  16 263 307 208 125  89 122  51 145 192  70 219 212  41 335   3\n",
      " 313 361 166 306 138  28  11  87 120 156 324  54   6 360 345  72 242 157\n",
      "  18 154  73 167  15  20 233 216 316  90 327 102 160 204  25  29  49 123\n",
      " 134 320  67  91 299 333 358 191  40  43 252  44 173 301 178 135 165 305\n",
      "  82 274  96 337 155 193  39 318  59  88  76  53 259  99 170  35 250 108\n",
      " 280   7   2 211  26 228 224 151 126  75  19 181 182 230  21 109  55  48\n",
      " 103 351 321 201 186 279 148 347 349 200 277 315 190 311 290  38  57 237\n",
      " 364 356 297 189 185 159 287  98  97 334 326 343 141 110 180 331 183  62\n",
      " 136 340 128 227 144 162 220 355 223 291  34 105 143 177 348  52 140 288\n",
      "  23 210 264 359 284 247   0 168  42  58 234 310  56   4 146 293 300  95\n",
      " 245 152 336 258 176 273 339  69 248 286   9 249 209 235 113 240 253 195\n",
      " 172 256 244 199  60   8 303   5 357 179 308 302 241  27 281  64 304 124\n",
      " 325 114 194  94]\n",
      "[129 130 131 257 133 260 261 262  10 266  12 267 142 270 272 147 150  24\n",
      " 285  30 158 161 163  36  37 298  45 174 184 312 314 188 319  66 323 196\n",
      " 197  71  74 202 203  77  78  79  80  81 205 207  86 344 217 346  92 221\n",
      " 350 226 101 231 104 106 107 236 362 238 111 112 363 116 117 119 121 254\n",
      " 127]\n"
     ]
    }
   ],
   "source": [
    "train_indices = np.random.choice(365, round(365*0.8), replace=False)\n",
    "test_indices = np.array(list(set(range(365)) - set(train_indices)))\n",
    "print(train_indices)\n",
    "print(test_indices)"
   ]
  },
  {
   "cell_type": "code",
   "execution_count": 15,
   "metadata": {},
   "outputs": [
    {
     "data": {
      "image/png": "[encoded data removed]",
      "text/plain": [
       "<matplotlib.figure.Figure at 0x107f55d30>"
      ]
     },
     "metadata": {},
     "output_type": "display_data"
    },
    {
     "data": {
      "image/png": "[encoded data removed]",
      "text/plain": [
       "<matplotlib.figure.Figure at 0x11551c550>"
      ]
     },
     "metadata": {},
     "output_type": "display_data"
    }
   ],
   "source": [
    "%matplotlib inline\n",
    "# Plot loss over time\n",
    "plt.plot(loss_vec, 'k-')\n",
    "plt.title('Cross Entropy Loss per Generation')\n",
    "plt.xlabel('Generation')\n",
    "plt.ylabel('Cross Entropy Loss')\n",
    "plt.show()\n",
    "\n",
    "# Plot train and test accuracy\n",
    "plt.plot(train_acc, 'k-', label='Train Set Accuracy')\n",
    "plt.plot(test_acc, 'r--', label='Test Set Accuracy')\n",
    "plt.title('Train and Test Accuracy')\n",
    "plt.xlabel('Generation')\n",
    "plt.ylabel('Accuracy')\n",
    "plt.legend(loc='lower right')\n",
    "plt.show()"
   ]
  },
  {
   "cell_type": "code",
   "execution_count": null,
   "metadata": {},
   "outputs": [],
   "source": []
  }
 ],
 "metadata": {
  "kernelspec": {
   "display_name": "Python 3",
   "language": "python",
   "name": "python3"
  },
  "language_info": {
   "codemirror_mode": {
    "name": "ipython",
    "version": 3
   },
   "file_extension": ".py",
   "mimetype": "text/x-python",
   "name": "python",
   "nbconvert_exporter": "python",
   "pygments_lexer": "ipython3",
   "version": "3.6.3"
  }
 },
 "nbformat": 4,
 "nbformat_minor": 2
}
