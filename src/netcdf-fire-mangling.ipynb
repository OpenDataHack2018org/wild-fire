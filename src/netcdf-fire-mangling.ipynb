{
 "cells": [
  {
   "cell_type": "code",
   "execution_count": 1,
   "metadata": {},
   "outputs": [],
   "source": [
    "from netCDF4 import Dataset\n"
   ]
  },
  {
   "cell_type": "code",
   "execution_count": 2,
   "metadata": {},
   "outputs": [],
   "source": [
    "rootgrp = Dataset(\"../data/cal_cams_gfas.nc\", \"r\", format=\"NETCDF4\")"
   ]
  },
  {
   "cell_type": "code",
   "execution_count": 3,
   "metadata": {},
   "outputs": [
    {
     "name": "stdout",
     "output_type": "stream",
     "text": [
      "NETCDF3_64BIT_OFFSET\n"
     ]
    }
   ],
   "source": [
    "print(rootgrp.data_model)"
   ]
  },
  {
   "cell_type": "code",
   "execution_count": 6,
   "metadata": {},
   "outputs": [
    {
     "name": "stdout",
     "output_type": "stream",
     "text": [
      "OrderedDict([('longitude', <class 'netCDF4._netCDF4.Dimension'>: name = 'longitude', size = 101\n",
      "), ('latitude', <class 'netCDF4._netCDF4.Dimension'>: name = 'latitude', size = 101\n",
      "), ('time', <class 'netCDF4._netCDF4.Dimension'> (unlimited): name = 'time', size = 3653\n",
      ")])\n"
     ]
    }
   ],
   "source": [
    "print(rootgrp.dimensions)"
   ]
  },
  {
   "cell_type": "code",
   "execution_count": 8,
   "metadata": {},
   "outputs": [
    {
     "name": "stdout",
     "output_type": "stream",
     "text": [
      "odict_keys(['longitude', 'latitude', 'time'])\n"
     ]
    }
   ],
   "source": [
    "print(rootgrp.dimensions.keys())"
   ]
  },
  {
   "cell_type": "code",
   "execution_count": 11,
   "metadata": {},
   "outputs": [
    {
     "name": "stdout",
     "output_type": "stream",
     "text": [
      "<class 'netCDF4._netCDF4.Variable'>\n",
      "int16 frpfire(time, latitude, longitude)\n",
      "    scale_factor: 0.0007698514388190514\n",
      "    add_offset: 25.22495224434504\n",
      "    _FillValue: -32767\n",
      "    missing_value: -32767\n",
      "    units: W m**-2\n",
      "    long_name: Wildfire radiative power\n",
      "unlimited dimensions: time\n",
      "current shape = (3653, 101, 101)\n",
      "filling off\n",
      "\n"
     ]
    }
   ],
   "source": [
    "frpfire = rootgrp.variables[\"frpfire\"]\n",
    "print(frpfire)"
   ]
  },
  {
   "cell_type": "code",
   "execution_count": 13,
   "metadata": {},
   "outputs": [
    {
     "name": "stdout",
     "output_type": "stream",
     "text": [
      "3.552713678800501e-15\n"
     ]
    }
   ],
   "source": [
    "print(frpfire[10][10][10])"
   ]
  },
  {
   "cell_type": "code",
   "execution_count": 32,
   "metadata": {},
   "outputs": [
    {
     "name": "stdout",
     "output_type": "stream",
     "text": [
      "41.0\n",
      "236.0\n",
      "2008-01-11 00:00:00\n"
     ]
    }
   ],
   "source": [
    "from datetime import datetime, timedelta\n",
    "from netCDF4 import num2date, date2num, date2index\n",
    "\n",
    "lat = rootgrp.variables[\"latitude\"]\n",
    "print(lat[10])\n",
    "lon = rootgrp.variables[\"longitude\"]\n",
    "print(lon[10])\n",
    "tim = rootgrp.variables[\"time\"]\n",
    "print( num2date(tim[10],units='hours since 1900-01-01 00:00:00.0',calendar='gregorian'))"
   ]
  },
  {
   "cell_type": "code",
   "execution_count": null,
   "metadata": {},
   "outputs": [],
   "source": []
  }
 ],
 "metadata": {
  "kernelspec": {
   "display_name": "Python 3",
   "language": "python",
   "name": "python3"
  },
  "language_info": {
   "codemirror_mode": {
    "name": "ipython",
    "version": 3
   },
   "file_extension": ".py",
   "mimetype": "text/x-python",
   "name": "python",
   "nbconvert_exporter": "python",
   "pygments_lexer": "ipython3",
   "version": "3.6.3"
  }
 },
 "nbformat": 4,
 "nbformat_minor": 2
}
