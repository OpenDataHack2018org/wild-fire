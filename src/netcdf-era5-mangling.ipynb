{
 "cells": [
  {
   "cell_type": "code",
   "execution_count": 1,
   "metadata": {},
   "outputs": [],
   "source": [
    "from netCDF4 import Dataset\n"
   ]
  },
  {
   "cell_type": "code",
   "execution_count": 2,
   "metadata": {},
   "outputs": [],
   "source": [
    "rootgrp = Dataset(\"../data/cal_era5_2008.nc\", \"r\", format=\"NETCDF4\")"
   ]
  },
  {
   "cell_type": "code",
   "execution_count": 3,
   "metadata": {},
   "outputs": [
    {
     "name": "stdout",
     "output_type": "stream",
     "text": [
      "NETCDF3_64BIT_OFFSET\n"
     ]
    }
   ],
   "source": [
    "print(rootgrp.data_model)"
   ]
  },
  {
   "cell_type": "code",
   "execution_count": 4,
   "metadata": {},
   "outputs": [
    {
     "name": "stdout",
     "output_type": "stream",
     "text": [
      "OrderedDict([('longitude', <class 'netCDF4._netCDF4.Dimension'>: name = 'longitude', size = 101\n",
      "), ('latitude', <class 'netCDF4._netCDF4.Dimension'>: name = 'latitude', size = 101\n",
      "), ('time', <class 'netCDF4._netCDF4.Dimension'> (unlimited): name = 'time', size = 366\n",
      ")])\n"
     ]
    }
   ],
   "source": [
    "print(rootgrp.dimensions)"
   ]
  },
  {
   "cell_type": "code",
   "execution_count": 6,
   "metadata": {},
   "outputs": [
    {
     "name": "stdout",
     "output_type": "stream",
     "text": [
      "odict_keys(['longitude', 'latitude', 'time'])\n",
      "OrderedDict([('longitude', <class 'netCDF4._netCDF4.Variable'>\n",
      "float32 longitude(longitude)\n",
      "    units: degrees_east\n",
      "    long_name: longitude\n",
      "unlimited dimensions: \n",
      "current shape = (101,)\n",
      "filling off\n",
      "), ('latitude', <class 'netCDF4._netCDF4.Variable'>\n",
      "float32 latitude(latitude)\n",
      "    units: degrees_north\n",
      "    long_name: latitude\n",
      "unlimited dimensions: \n",
      "current shape = (101,)\n",
      "filling off\n",
      "), ('time', <class 'netCDF4._netCDF4.Variable'>\n",
      "int32 time(time)\n",
      "    units: hours since 1900-01-01 00:00:0.0\n",
      "    long_name: time\n",
      "    calendar: gregorian\n",
      "unlimited dimensions: time\n",
      "current shape = (366,)\n",
      "filling off\n",
      "), ('d2m', <class 'netCDF4._netCDF4.Variable'>\n",
      "int16 d2m(time, latitude, longitude)\n",
      "    scale_factor: 0.000895803822716227\n",
      "    add_offset: 268.9660437973074\n",
      "    _FillValue: -32767\n",
      "    missing_value: -32767\n",
      "    units: K\n",
      "    long_name: 2 metre dewpoint temperature\n",
      "unlimited dimensions: time\n",
      "current shape = (366, 101, 101)\n",
      "filling off\n",
      "), ('t2m', <class 'netCDF4._netCDF4.Variable'>\n",
      "int16 t2m(time, latitude, longitude)\n",
      "    scale_factor: 0.0009143140077238042\n",
      "    add_offset: 275.73354400266413\n",
      "    _FillValue: -32767\n",
      "    missing_value: -32767\n",
      "    units: K\n",
      "    long_name: 2 metre temperature\n",
      "unlimited dimensions: time\n",
      "current shape = (366, 101, 101)\n",
      "filling off\n",
      "), ('sp', <class 'netCDF4._netCDF4.Variable'>\n",
      "int16 sp(time, latitude, longitude)\n",
      "    scale_factor: 0.4764546106541742\n",
      "    add_offset: 88357.57427269468\n",
      "    _FillValue: -32767\n",
      "    missing_value: -32767\n",
      "    units: Pa\n",
      "    long_name: Surface pressure\n",
      "    standard_name: surface_air_pressure\n",
      "unlimited dimensions: time\n",
      "current shape = (366, 101, 101)\n",
      "filling off\n",
      "), ('tp', <class 'netCDF4._netCDF4.Variable'>\n",
      "int16 tp(time, latitude, longitude)\n",
      "    scale_factor: 2.4949673168673726e-07\n",
      "    add_offset: 0.008175009910447633\n",
      "    _FillValue: -32767\n",
      "    missing_value: -32767\n",
      "    units: m\n",
      "    long_name: Total precipitation\n",
      "unlimited dimensions: time\n",
      "current shape = (366, 101, 101)\n",
      "filling off\n",
      "), ('u10', <class 'netCDF4._netCDF4.Variable'>\n",
      "int16 u10(time, latitude, longitude)\n",
      "    scale_factor: 0.00047468132424303256\n",
      "    add_offset: -1.3986028382512328\n",
      "    _FillValue: -32767\n",
      "    missing_value: -32767\n",
      "    units: m s**-1\n",
      "    long_name: 10 metre U wind component\n",
      "unlimited dimensions: time\n",
      "current shape = (366, 101, 101)\n",
      "filling off\n",
      "), ('v10', <class 'netCDF4._netCDF4.Variable'>\n",
      "int16 v10(time, latitude, longitude)\n",
      "    scale_factor: 0.0006155630983859644\n",
      "    add_offset: 0.9174958039801344\n",
      "    _FillValue: -32767\n",
      "    missing_value: -32767\n",
      "    units: m s**-1\n",
      "    long_name: 10 metre V wind component\n",
      "unlimited dimensions: time\n",
      "current shape = (366, 101, 101)\n",
      "filling off\n",
      "), ('lai_lv', <class 'netCDF4._netCDF4.Variable'>\n",
      "int16 lai_lv(time, latitude, longitude)\n",
      "    scale_factor: 4.5209398616441335e-05\n",
      "    add_offset: 1.4813311550663169\n",
      "    _FillValue: -32767\n",
      "    missing_value: -32767\n",
      "    units: m**2 m**-2\n",
      "    long_name: Leaf area index, low vegetation\n",
      "unlimited dimensions: time\n",
      "current shape = (366, 101, 101)\n",
      "filling off\n",
      "), ('swvl1', <class 'netCDF4._netCDF4.Variable'>\n",
      "int16 swvl1(time, latitude, longitude)\n",
      "    scale_factor: 7.896579925619535e-06\n",
      "    add_offset: 0.2587393378428497\n",
      "    _FillValue: -32767\n",
      "    missing_value: -32767\n",
      "    units: m**3 m**-3\n",
      "    long_name: Volumetric soil water layer 1\n",
      "unlimited dimensions: time\n",
      "current shape = (366, 101, 101)\n",
      "filling off\n",
      ")])\n"
     ]
    }
   ],
   "source": [
    "print(rootgrp.dimensions.keys())\n",
    "print(rootgrp.variables)"
   ]
  },
  {
   "cell_type": "code",
   "execution_count": 9,
   "metadata": {},
   "outputs": [
    {
     "name": "stdout",
     "output_type": "stream",
     "text": [
      "<class 'netCDF4._netCDF4.Variable'>\n",
      "int16 swvl1(time, latitude, longitude)\n",
      "    scale_factor: 7.896579925619535e-06\n",
      "    add_offset: 0.2587393378428497\n",
      "    _FillValue: -32767\n",
      "    missing_value: -32767\n",
      "    units: m**3 m**-3\n",
      "    long_name: Volumetric soil water layer 1\n",
      "unlimited dimensions: time\n",
      "current shape = (366, 101, 101)\n",
      "filling off\n",
      "\n"
     ]
    }
   ],
   "source": [
    "swvl1 = rootgrp.variables[\"swvl1\"]\n",
    "print(swvl1)"
   ]
  },
  {
   "cell_type": "code",
   "execution_count": 10,
   "metadata": {},
   "outputs": [
    {
     "name": "stdout",
     "output_type": "stream",
     "text": [
      "0.38100998141114256\n"
     ]
    }
   ],
   "source": [
    "print(swvl1[10][10][10])"
   ]
  },
  {
   "cell_type": "code",
   "execution_count": 32,
   "metadata": {},
   "outputs": [
    {
     "name": "stdout",
     "output_type": "stream",
     "text": [
      "41.0\n",
      "236.0\n",
      "2008-01-11 00:00:00\n"
     ]
    }
   ],
   "source": [
    "from datetime import datetime, timedelta\n",
    "from netCDF4 import num2date, date2num, date2index\n",
    "\n",
    "lat = rootgrp.variables[\"latitude\"]\n",
    "print(lat[10])\n",
    "lon = rootgrp.variables[\"longitude\"]\n",
    "print(lon[10])\n",
    "tim = rootgrp.variables[\"time\"]\n",
    "print( num2date(tim[10],units='hours since 1900-01-01 00:00:00.0',calendar='gregorian'))"
   ]
  },
  {
   "cell_type": "code",
   "execution_count": null,
   "metadata": {},
   "outputs": [],
   "source": []
  }
 ],
 "metadata": {
  "kernelspec": {
   "display_name": "Python 3",
   "language": "python",
   "name": "python3"
  },
  "language_info": {
   "codemirror_mode": {
    "name": "ipython",
    "version": 3
   },
   "file_extension": ".py",
   "mimetype": "text/x-python",
   "name": "python",
   "nbconvert_exporter": "python",
   "pygments_lexer": "ipython3",
   "version": "3.6.3"
  }
 },
 "nbformat": 4,
 "nbformat_minor": 2
}
