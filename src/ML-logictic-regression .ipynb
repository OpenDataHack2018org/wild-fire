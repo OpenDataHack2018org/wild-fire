{
 "cells": [
  {
   "cell_type": "code",
   "execution_count": 1,
   "metadata": {},
   "outputs": [],
   "source": [
    "import numpy as np\n",
    "from numpy import genfromtxt\n",
    "my_data = genfromtxt('../data/rates_y2008.csv', delimiter=',')"
   ]
  },
  {
   "cell_type": "code",
   "execution_count": 2,
   "metadata": {},
   "outputs": [
    {
     "name": "stdout",
     "output_type": "stream",
     "text": [
      "(59, 4)\n"
     ]
    }
   ],
   "source": [
    "print(my_data.shape)"
   ]
  },
  {
   "cell_type": "code",
   "execution_count": 3,
   "metadata": {},
   "outputs": [
    {
     "name": "stdout",
     "output_type": "stream",
     "text": [
      "347.0\n",
      "35.0\n",
      "47.0\n",
      "726.0\n",
      "59\n"
     ]
    }
   ],
   "source": [
    "print(my_data[0][0])\n",
    "print(my_data[0][1])\n",
    "print(my_data[0][2])\n",
    "print(my_data[0][3])\n",
    "print(len(my_data))"
   ]
  },
  {
   "cell_type": "code",
   "execution_count": 4,
   "metadata": {},
   "outputs": [],
   "source": [
    "y = np.zeros((366,101,101))\n",
    "for i in range(len(my_data)):\n",
    "    time = int(my_data[i][0])\n",
    "    lat = int(my_data[i][1])\n",
    "    lon = int(my_data[i][2])\n",
    "    y[time][lat][lon] = 1\n",
    "    "
   ]
  },
  {
   "cell_type": "code",
   "execution_count": 5,
   "metadata": {},
   "outputs": [
    {
     "name": "stderr",
     "output_type": "stream",
     "text": [
      "/Library/Frameworks/Python.framework/Versions/3.6/lib/python3.6/importlib/_bootstrap.py:219: RuntimeWarning: compiletime version 3.5 of module 'tensorflow.python.framework.fast_tensor_util' does not match runtime version 3.6\n",
      "  return f(*args, **kwds)\n"
     ]
    }
   ],
   "source": [
    "import matplotlib.pyplot as plt\n",
    "import numpy as np\n",
    "import tensorflow as tf\n",
    "#from sklearn import datasets\n",
    "from netCDF4 import Dataset\n",
    "sess = tf.Session()"
   ]
  },
  {
   "cell_type": "code",
   "execution_count": 6,
   "metadata": {},
   "outputs": [],
   "source": [
    "rootgrp2 = Dataset(\"../data/cal_era5_2008.nc\", \"r\", format=\"NETCDF4\")\n",
    "swvl1 = rootgrp2.variables[\"swvl1\"]\n",
    "d2m = rootgrp2.variables[\"d2m\"]"
   ]
  },
  {
   "cell_type": "code",
   "execution_count": 7,
   "metadata": {},
   "outputs": [],
   "source": [
    "x1_vals = np.array(swvl1[0:365][:][:])\n",
    "x2_vals = np.array(d2m[0:365][:][:])\n",
    "y_vals = np.array(y[0:365][:][:])\n",
    "x1_vals[x1_vals < 0.01] = 0.0\n",
    "x2_vals[x2_vals < 0.01] = 0.0"
   ]
  },
  {
   "cell_type": "code",
   "execution_count": 8,
   "metadata": {},
   "outputs": [],
   "source": [
    "x1_data = tf.placeholder(shape=[None, 1], dtype=tf.float32)\n",
    "x2_data = tf.placeholder(shape=[None, 1], dtype=tf.float32)\n",
    "y_target = tf.placeholder(shape=[None, 1], dtype=tf.float32)\n",
    "A = tf.Variable(tf.random_normal(shape=[1, 1]))\n",
    "b = tf.Variable(tf.random_normal(shape=[1, 1]))"
   ]
  },
  {
   "cell_type": "code",
   "execution_count": 9,
   "metadata": {},
   "outputs": [],
   "source": [
    "my_mult = tf.matmul(x2_data, A)\n",
    "my_add = tf.add(my_mult, b)\n",
    "my_output = tf.subtract(x1_data, my_add)"
   ]
  },
  {
   "cell_type": "code",
   "execution_count": 10,
   "metadata": {},
   "outputs": [],
   "source": [
    "xentropy = tf.nn.sigmoid_cross_entropy_with_logits(logits=my_output, labels=y_target)\n",
    "loss = tf.reduce_mean(tf.nn.sigmoid_cross_entropy_with_logits(logits=my_output, labels=y_target))"
   ]
  },
  {
   "cell_type": "code",
   "execution_count": 11,
   "metadata": {},
   "outputs": [],
   "source": [
    "my_opt = tf.train.GradientDescentOptimizer(0.05)\n",
    "train_step = my_opt.minimize(xentropy)"
   ]
  },
  {
   "cell_type": "code",
   "execution_count": 12,
   "metadata": {},
   "outputs": [],
   "source": [
    "init = tf.global_variables_initializer()\n",
    "sess.run(init)"
   ]
  },
  {
   "cell_type": "code",
   "execution_count": 18,
   "metadata": {},
   "outputs": [
    {
     "name": "stdout",
     "output_type": "stream",
     "text": [
      "(2978692, 1)\n",
      "(2978692, 1)\n",
      "(744673, 1)\n",
      "(744673, 1)\n",
      "(2978692, 1)\n",
      "(744673, 1)\n"
     ]
    }
   ],
   "source": [
    "train_indices = np.random.choice(365, round(365*0.8), replace=False)\n",
    "test_indices = np.array(list(set(range(365)) - set(train_indices)))\n",
    "#print(train_indices)\n",
    "#print(test_indices)\n",
    "x1_vals_train = x1_vals[train_indices][:][:].reshape(-1,1)\n",
    "x1_vals_test = x1_vals[test_indices][:][:].reshape(-1,1)\n",
    "x2_vals_train = x2_vals[train_indices][:][:].reshape(-1,1)\n",
    "x2_vals_test = x2_vals[test_indices][:][:].reshape(-1,1)\n",
    "y_vals_train = y_vals[train_indices][:][:].reshape(-1,1)\n",
    "y_vals_test = y_vals[test_indices][:][:].reshape(-1,1)\n",
    "\n",
    "print(x1_vals_train.shape)\n",
    "print(x2_vals_train.shape)\n",
    "print(x1_vals_test.shape)\n",
    "print(x2_vals_test.shape)\n",
    "print(y_vals_train.shape)\n",
    "print(y_vals_test.shape)\n",
    "\n",
    "prediction = tf.round(tf.sigmoid(my_output))\n",
    "predictions_correct = tf.cast(tf.equal(prediction, y_target), tf.float32)\n",
    "accuracy = tf.reduce_mean(predictions_correct)"
   ]
  },
  {
   "cell_type": "code",
   "execution_count": 20,
   "metadata": {},
   "outputs": [
    {
     "name": "stdout",
     "output_type": "stream",
     "text": [
      "Step #5 A = [[140901.5]], b = [[509.9874]]\n",
      "Loss = 0.0\n",
      "acc train = 0.9999842\n",
      "acc test = 0.9999839\n",
      "Step #10 A = [[140901.5]], b = [[509.9874]]\n",
      "Loss = 0.0\n",
      "acc train = 0.9999842\n",
      "acc test = 0.9999839\n",
      "Step #15 A = [[140901.5]], b = [[509.9874]]\n",
      "Loss = 0.0\n",
      "acc train = 0.9999842\n",
      "acc test = 0.9999839\n",
      "Step #20 A = [[140901.5]], b = [[509.9874]]\n",
      "Loss = 0.0\n",
      "acc train = 0.9999842\n",
      "acc test = 0.9999839\n",
      "Step #25 A = [[140901.5]], b = [[509.9874]]\n",
      "Loss = 0.0\n",
      "acc train = 0.9999842\n",
      "acc test = 0.9999839\n",
      "Step #30 A = [[140859.11]], b = [[509.8374]]\n",
      "Loss = 0.0\n",
      "acc train = 0.9999842\n",
      "acc test = 0.9999839\n",
      "Step #35 A = [[140845.53]], b = [[509.7874]]\n",
      "Loss = 3747.945\n",
      "acc train = 0.9999842\n",
      "acc test = 0.9999839\n",
      "Step #40 A = [[140845.53]], b = [[509.7874]]\n",
      "Loss = 0.0\n",
      "acc train = 0.9999842\n",
      "acc test = 0.9999839\n",
      "Step #45 A = [[140803.38]], b = [[509.63742]]\n",
      "Loss = 7757.0024\n",
      "acc train = 0.9999842\n",
      "acc test = 0.9999839\n",
      "Step #50 A = [[140803.38]], b = [[509.63742]]\n",
      "Loss = 0.0\n",
      "acc train = 0.9999842\n",
      "acc test = 0.9999839\n",
      "Step #55 A = [[140803.38]], b = [[509.63742]]\n",
      "Loss = 0.0\n",
      "acc train = 0.9999842\n",
      "acc test = 0.9999839\n",
      "Step #60 A = [[140803.38]], b = [[509.63742]]\n",
      "Loss = 0.0\n",
      "acc train = 0.9999842\n",
      "acc test = 0.9999839\n",
      "Step #65 A = [[140789.56]], b = [[509.58743]]\n",
      "Loss = 3812.4148\n",
      "acc train = 0.9999842\n",
      "acc test = 0.9999839\n",
      "Step #70 A = [[140775.56]], b = [[509.53745]]\n",
      "Loss = 0.0\n",
      "acc train = 0.9999842\n",
      "acc test = 0.9999839\n",
      "Step #75 A = [[140775.56]], b = [[509.53745]]\n",
      "Loss = 0.0\n",
      "acc train = 0.9999842\n",
      "acc test = 0.9999839\n",
      "Step #80 A = [[140761.62]], b = [[509.48746]]\n",
      "Loss = 0.0\n",
      "acc train = 0.9999842\n",
      "acc test = 0.9999839\n",
      "Step #85 A = [[140748.08]], b = [[509.43747]]\n",
      "Loss = 0.0\n",
      "acc train = 0.9999842\n",
      "acc test = 0.9999839\n",
      "Step #90 A = [[140748.08]], b = [[509.43747]]\n",
      "Loss = 0.0\n",
      "acc train = 0.9999842\n",
      "acc test = 0.9999839\n",
      "Step #95 A = [[140748.08]], b = [[509.43747]]\n",
      "Loss = 0.0\n",
      "acc train = 0.9999842\n",
      "acc test = 0.9999839\n",
      "Step #100 A = [[140748.08]], b = [[509.43747]]\n",
      "Loss = 0.0\n",
      "acc train = 0.9999842\n",
      "acc test = 0.9999839\n",
      "Step #105 A = [[140734.05]], b = [[509.38748]]\n",
      "Loss = 0.0\n",
      "acc train = 0.9999842\n",
      "acc test = 0.9999839\n",
      "Step #110 A = [[140720.]], b = [[509.3375]]\n",
      "Loss = 3874.8142\n",
      "acc train = 0.9999842\n",
      "acc test = 0.9999839\n",
      "Step #115 A = [[140720.]], b = [[509.3375]]\n",
      "Loss = 0.0\n",
      "acc train = 0.9999842\n",
      "acc test = 0.9999839\n",
      "Step #120 A = [[140720.]], b = [[509.3375]]\n",
      "Loss = 0.0\n",
      "acc train = 0.9999842\n",
      "acc test = 0.9999839\n",
      "Step #125 A = [[140691.66]], b = [[509.2375]]\n",
      "Loss = 7819.814\n",
      "acc train = 0.9999842\n",
      "acc test = 0.9999839\n",
      "Step #130 A = [[140649.11]], b = [[509.0875]]\n",
      "Loss = 0.0\n",
      "acc train = 0.9999842\n",
      "acc test = 0.9999839\n",
      "Step #135 A = [[140635.03]], b = [[509.0375]]\n",
      "Loss = 0.0\n",
      "acc train = 0.9999842\n",
      "acc test = 0.9999839\n",
      "Step #140 A = [[140635.03]], b = [[509.0375]]\n",
      "Loss = 0.0\n",
      "acc train = 0.9999842\n",
      "acc test = 0.9999839\n",
      "Step #145 A = [[140635.03]], b = [[509.0375]]\n",
      "Loss = 0.0\n",
      "acc train = 0.9999842\n",
      "acc test = 0.9999839\n",
      "Step #150 A = [[140635.03]], b = [[509.0375]]\n",
      "Loss = 0.0\n",
      "acc train = 0.9999842\n",
      "acc test = 0.9999839\n",
      "Step #155 A = [[140606.98]], b = [[508.9375]]\n",
      "Loss = 0.0\n",
      "acc train = 0.9999842\n",
      "acc test = 0.9999839\n",
      "Step #160 A = [[140606.98]], b = [[508.9375]]\n",
      "Loss = 0.0\n",
      "acc train = 0.9999842\n",
      "acc test = 0.9999839\n",
      "Step #165 A = [[140592.94]], b = [[508.8875]]\n",
      "Loss = 3872.0195\n",
      "acc train = 0.9999842\n",
      "acc test = 0.9999839\n",
      "Step #170 A = [[140592.94]], b = [[508.8875]]\n",
      "Loss = 0.0\n",
      "acc train = 0.9999842\n",
      "acc test = 0.9999839\n",
      "Step #175 A = [[140579.05]], b = [[508.83752]]\n",
      "Loss = 0.0\n",
      "acc train = 0.9999842\n",
      "acc test = 0.9999839\n",
      "Step #180 A = [[140579.05]], b = [[508.83752]]\n",
      "Loss = 0.0\n",
      "acc train = 0.9999842\n",
      "acc test = 0.9999839\n",
      "Step #185 A = [[140551.44]], b = [[508.73755]]\n",
      "Loss = 3715.7432\n",
      "acc train = 0.9999842\n",
      "acc test = 0.9999839\n",
      "Step #190 A = [[140551.44]], b = [[508.73755]]\n",
      "Loss = 0.0\n",
      "acc train = 0.9999842\n",
      "acc test = 0.9999839\n",
      "Step #195 A = [[140509.]], b = [[508.58755]]\n",
      "Loss = 0.0\n",
      "acc train = 0.9999842\n",
      "acc test = 0.9999839\n",
      "Step #200 A = [[140495.48]], b = [[508.53757]]\n",
      "Loss = 3725.0098\n",
      "acc train = 0.9999842\n",
      "acc test = 0.9999839\n",
      "Step #205 A = [[140495.48]], b = [[508.53757]]\n",
      "Loss = 0.0\n",
      "acc train = 0.9999842\n",
      "acc test = 0.9999839\n",
      "Step #210 A = [[140495.48]], b = [[508.53757]]\n",
      "Loss = 0.0\n",
      "acc train = 0.9999842\n",
      "acc test = 0.9999839\n",
      "Step #215 A = [[140481.25]], b = [[508.48758]]\n",
      "Loss = 0.0\n",
      "acc train = 0.9999842\n",
      "acc test = 0.9999839\n",
      "Step #220 A = [[140481.25]], b = [[508.48758]]\n",
      "Loss = 0.0\n",
      "acc train = 0.9999842\n",
      "acc test = 0.9999839\n",
      "Step #225 A = [[140453.23]], b = [[508.38757]]\n",
      "Loss = 7713.5513\n",
      "acc train = 0.9999842\n",
      "acc test = 0.9999839\n",
      "Step #230 A = [[140398.25]], b = [[508.1876]]\n",
      "Loss = 0.0\n",
      "acc train = 0.9999842\n",
      "acc test = 0.9999839\n",
      "Step #235 A = [[140398.25]], b = [[508.1876]]\n",
      "Loss = 0.0\n",
      "acc train = 0.9999842\n",
      "acc test = 0.9999839\n",
      "Step #240 A = [[140328.73]], b = [[507.9376]]\n",
      "Loss = 11518.703\n",
      "acc train = 0.9999842\n",
      "acc test = 0.9999839\n",
      "Step #245 A = [[140328.73]], b = [[507.9376]]\n",
      "Loss = 0.0\n",
      "acc train = 0.9999842\n",
      "acc test = 0.9999839\n",
      "Step #250 A = [[140314.72]], b = [[507.8876]]\n",
      "Loss = 0.0\n",
      "acc train = 0.9999842\n",
      "acc test = 0.9999839\n",
      "Step #255 A = [[140314.72]], b = [[507.8876]]\n",
      "Loss = 0.0\n",
      "acc train = 0.9999842\n",
      "acc test = 0.9999839\n",
      "Step #260 A = [[140314.72]], b = [[507.8876]]\n",
      "Loss = 0.0\n",
      "acc train = 0.9999842\n",
      "acc test = 0.9999839\n",
      "Step #265 A = [[140286.66]], b = [[507.7876]]\n",
      "Loss = 0.0\n",
      "acc train = 0.9999842\n",
      "acc test = 0.9999839\n",
      "Step #270 A = [[140258.53]], b = [[507.6876]]\n",
      "Loss = 0.0\n",
      "acc train = 0.9999842\n",
      "acc test = 0.9999839\n",
      "Step #275 A = [[140258.53]], b = [[507.6876]]\n",
      "Loss = 0.0\n",
      "acc train = 0.9999842\n",
      "acc test = 0.9999839\n",
      "Step #280 A = [[140258.53]], b = [[507.6876]]\n",
      "Loss = 0.0\n",
      "acc train = 0.9999842\n",
      "acc test = 0.9999839\n",
      "Step #285 A = [[140258.53]], b = [[507.6876]]\n",
      "Loss = 0.0\n",
      "acc train = 0.9999842\n",
      "acc test = 0.9999839\n",
      "Step #290 A = [[140258.53]], b = [[507.6876]]\n",
      "Loss = 0.0\n",
      "acc train = 0.9999842\n",
      "acc test = 0.9999839\n"
     ]
    }
   ],
   "source": [
    "loss_vec = []\n",
    "train_acc = []\n",
    "test_acc = []\n",
    "for i in range(len(train_indices)):\n",
    "    rand_index = train_indices[i]\n",
    "    x1 = x1_vals[rand_index][:][:].reshape(101*101,1)\n",
    "    x2 = x2_vals[rand_index][:][:].reshape(101*101,1)\n",
    "    y  = y_vals[rand_index][:][:].reshape(101*101,1)\n",
    "    sess.run(train_step, feed_dict={x1_data: x1, x2_data:x2, y_target: y})\n",
    "    temp_loss = sess.run(loss, feed_dict={x1_data: x1, x2_data:x2, y_target: y})\n",
    "    loss_vec.append(temp_loss)\n",
    "    temp_acc_train = sess.run(accuracy, feed_dict={x1_data: x1_vals_train, x2_data: x2_vals_train, y_target: y_vals_train})\n",
    "    train_acc.append(temp_acc_train)\n",
    "    temp_acc_test = sess.run(accuracy, feed_dict={x1_data: x1_vals_test, x2_data: x2_vals_test, y_target: y_vals_test})\n",
    "    test_acc.append(temp_acc_test)\n",
    "    if (i+1)%5==0:\n",
    "        print('Step #' + str(i+1) + ' A = ' + str(sess.run(A)) +', b = ' + str(sess.run(b)))\n",
    "        print('Loss = ' + str(temp_loss))\n",
    "        print('acc train = ' + str(temp_acc_train))\n",
    "        print('acc test = ' + str(temp_acc_test))"
   ]
  },
  {
   "cell_type": "code",
   "execution_count": 15,
   "metadata": {},
   "outputs": [
    {
     "name": "stdout",
     "output_type": "stream",
     "text": [
      "[275 175 115 100 169  61 329 243  63 276 187 330 354 283 171 218 268 292\n",
      "  84 317  14 222 294  46 153 198  32 213 255   1  65 332 214  85 164 278\n",
      " 206 225 309 118  33 132 338 215 269 246 296 322 251 295  50 271 282  93\n",
      " 353 342 232 139  47 328  13 265  83 137 239 289  31  68 229  22 149 352\n",
      " 341  17  16 263 307 208 125  89 122  51 145 192  70 219 212  41 335   3\n",
      " 313 361 166 306 138  28  11  87 120 156 324  54   6 360 345  72 242 157\n",
      "  18 154  73 167  15  20 233 216 316  90 327 102 160 204  25  29  49 123\n",
      " 134 320  67  91 299 333 358 191  40  43 252  44 173 301 178 135 165 305\n",
      "  82 274  96 337 155 193  39 318  59  88  76  53 259  99 170  35 250 108\n",
      " 280   7   2 211  26 228 224 151 126  75  19 181 182 230  21 109  55  48\n",
      " 103 351 321 201 186 279 148 347 349 200 277 315 190 311 290  38  57 237\n",
      " 364 356 297 189 185 159 287  98  97 334 326 343 141 110 180 331 183  62\n",
      " 136 340 128 227 144 162 220 355 223 291  34 105 143 177 348  52 140 288\n",
      "  23 210 264 359 284 247   0 168  42  58 234 310  56   4 146 293 300  95\n",
      " 245 152 336 258 176 273 339  69 248 286   9 249 209 235 113 240 253 195\n",
      " 172 256 244 199  60   8 303   5 357 179 308 302 241  27 281  64 304 124\n",
      " 325 114 194  94]\n",
      "[129 130 131 257 133 260 261 262  10 266  12 267 142 270 272 147 150  24\n",
      " 285  30 158 161 163  36  37 298  45 174 184 312 314 188 319  66 323 196\n",
      " 197  71  74 202 203  77  78  79  80  81 205 207  86 344 217 346  92 221\n",
      " 350 226 101 231 104 106 107 236 362 238 111 112 363 116 117 119 121 254\n",
      " 127]\n"
     ]
    }
   ],
   "source": [
    "train_indices = np.random.choice(365, round(365*0.8), replace=False)\n",
    "test_indices = np.array(list(set(range(365)) - set(train_indices)))\n",
    "print(train_indices)\n",
    "print(test_indices)"
   ]
  },
  {
   "cell_type": "code",
   "execution_count": 21,
   "metadata": {},
   "outputs": [
    {
     "data": {
      "image/png": "[encoded data removed]",
      "text/plain": [
       "<matplotlib.figure.Figure at 0x10804ed30>"
      ]
     },
     "metadata": {},
     "output_type": "display_data"
    },
    {
     "data": {
      "image/png": "[encoded data removed]",
      "text/plain": [
       "<matplotlib.figure.Figure at 0x11533c550>"
      ]
     },
     "metadata": {},
     "output_type": "display_data"
    }
   ],
   "source": [
    "%matplotlib inline\n",
    "# Plot loss over time\n",
    "plt.plot(loss_vec, 'k-')\n",
    "plt.title('Cross Entropy Loss per Generation')\n",
    "plt.xlabel('Generation')\n",
    "plt.ylabel('Cross Entropy Loss')\n",
    "plt.show()\n",
    "\n",
    "# Plot train and test accuracy\n",
    "plt.plot(train_acc, 'k-', label='Train Set Accuracy')\n",
    "plt.plot(test_acc, 'r--', label='Test Set Accuracy')\n",
    "plt.title('Train and Test Accuracy')\n",
    "plt.xlabel('Generation')\n",
    "plt.ylabel('Accuracy')\n",
    "plt.legend(loc='lower right')\n",
    "plt.show()"
   ]
  },
  {
   "cell_type": "code",
   "execution_count": null,
   "metadata": {},
   "outputs": [],
   "source": []
  }
 ],
 "metadata": {
  "kernelspec": {
   "display_name": "Python 3",
   "language": "python",
   "name": "python3"
  },
  "language_info": {
   "codemirror_mode": {
    "name": "ipython",
    "version": 3
   },
   "file_extension": ".py",
   "mimetype": "text/x-python",
   "name": "python",
   "nbconvert_exporter": "python",
   "pygments_lexer": "ipython3",
   "version": "3.6.3"
  }
 },
 "nbformat": 4,
 "nbformat_minor": 2
}
