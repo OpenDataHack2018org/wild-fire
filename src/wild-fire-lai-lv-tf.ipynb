{
 "cells": [
  {
   "cell_type": "code",
   "execution_count": 1,
   "metadata": {},
   "outputs": [
    {
     "name": "stderr",
     "output_type": "stream",
     "text": [
      "/Library/Frameworks/Python.framework/Versions/3.6/lib/python3.6/importlib/_bootstrap.py:219: RuntimeWarning: compiletime version 3.5 of module 'tensorflow.python.framework.fast_tensor_util' does not match runtime version 3.6\n",
      "  return f(*args, **kwds)\n"
     ]
    }
   ],
   "source": [
    "import matplotlib.pyplot as plt\n",
    "import numpy as np\n",
    "import tensorflow as tf\n",
    "#from sklearn import datasets\n",
    "sess = tf.Session()"
   ]
  },
  {
   "cell_type": "code",
   "execution_count": 2,
   "metadata": {},
   "outputs": [],
   "source": [
    "from netCDF4 import Dataset\n",
    "rootgrp1 = Dataset(\"../data/cal_cams_gfas.nc\", \"r\", format=\"NETCDF4\")\n",
    "frpfire = rootgrp1.variables[\"frpfire\"]"
   ]
  },
  {
   "cell_type": "code",
   "execution_count": 4,
   "metadata": {},
   "outputs": [],
   "source": [
    "rootgrp2 = Dataset(\"../data/cal_era5_2008.nc\", \"r\", format=\"NETCDF4\")\n",
    "swvl1 = rootgrp2.variables[\"lai_lv\"]"
   ]
  },
  {
   "cell_type": "code",
   "execution_count": 5,
   "metadata": {},
   "outputs": [
    {
     "name": "stdout",
     "output_type": "stream",
     "text": [
      "(365, 101, 101)\n",
      "(365, 101, 101)\n",
      "0.0\n",
      "3.552713678800501e-15\n",
      "2.96270751953125\n",
      "30.09349274343672\n",
      "[]\n",
      "[]\n"
     ]
    }
   ],
   "source": [
    "x_vals = np.array(swvl1[0:365][:][:])\n",
    "y_vals = np.array(frpfire[0:365][:][:])\n",
    "#x_vals = x_vals.reshape(-1)\n",
    "#y_vals = y_vals.reshape(-1)\n",
    "print(x_vals.shape)\n",
    "print(y_vals.shape)\n",
    "print(np.amin(x_vals))\n",
    "print(np.amin(y_vals))\n",
    "print(np.amax(x_vals))\n",
    "print(np.amax(y_vals))\n",
    "print(np.argwhere(np.isnan(x_vals)))\n",
    "print(np.argwhere(np.isnan(y_vals)))"
   ]
  },
  {
   "cell_type": "code",
   "execution_count": 6,
   "metadata": {},
   "outputs": [],
   "source": [
    "learning_rate = 0.001\n",
    "batch_size = 101*101\n",
    "x_data = tf.placeholder(shape=[None, 1], dtype=tf.float32)\n",
    "y_target = tf.placeholder(shape=[None, 1], dtype=tf.float32)\n",
    "A = tf.Variable(tf.random_normal(shape=[1,1]))\n",
    "b = tf.Variable(tf.random_normal(shape=[1,1]))"
   ]
  },
  {
   "cell_type": "code",
   "execution_count": 7,
   "metadata": {},
   "outputs": [],
   "source": [
    "model_output = tf.add(tf.matmul(x_data, A), b)"
   ]
  },
  {
   "cell_type": "code",
   "execution_count": 8,
   "metadata": {},
   "outputs": [],
   "source": [
    "loss = tf.reduce_mean(tf.square(y_target - model_output))"
   ]
  },
  {
   "cell_type": "code",
   "execution_count": 9,
   "metadata": {},
   "outputs": [],
   "source": [
    "init = tf.global_variables_initializer()\n",
    "sess.run(init)\n",
    "my_opt = tf.train.GradientDescentOptimizer(learning_rate)\n",
    "train_step = my_opt.minimize(loss)"
   ]
  },
  {
   "cell_type": "code",
   "execution_count": 10,
   "metadata": {},
   "outputs": [
    {
     "name": "stdout",
     "output_type": "stream",
     "text": [
      "Step #25 A = [[-0.42765373]]b = [[0.43090457]]\n",
      "Loss = 0.12129232\n",
      "Step #50 A = [[-0.42036855]]b = [[0.42401108]]\n",
      "Loss = 0.120217815\n",
      "Step #75 A = [[-0.41246486]]b = [[0.41752625]]\n",
      "Loss = 0.12029596\n",
      "Step #100 A = [[-0.4043185]]b = [[0.41128802]]\n",
      "Loss = 0.116128944\n",
      "Step #125 A = [[-0.39640746]]b = [[0.4051135]]\n",
      "Loss = 0.11106003\n",
      "Step #150 A = [[-0.38887438]]b = [[0.39895022]]\n",
      "Loss = 0.106642835\n",
      "Step #175 A = [[-0.38144967]]b = [[0.3928897]]\n",
      "Loss = 0.15494643\n",
      "Step #200 A = [[-0.37387308]]b = [[0.38705477]]\n",
      "Loss = 0.10471109\n",
      "Step #225 A = [[-0.3668579]]b = [[0.38099986]]\n",
      "Loss = 0.09645329\n",
      "Step #250 A = [[-0.36039612]]b = [[0.374859]]\n",
      "Loss = 0.092026085\n",
      "Step #275 A = [[-0.35446203]]b = [[0.36861125]]\n",
      "Loss = 0.089636184\n",
      "Step #300 A = [[-0.34886318]]b = [[0.362353]]\n",
      "Loss = 0.08391515\n",
      "Step #325 A = [[-0.34365883]]b = [[0.35607028]]\n",
      "Loss = 0.0795695\n",
      "Step #350 A = [[-0.33866405]]b = [[0.34983206]]\n",
      "Loss = 0.07710495\n"
     ]
    }
   ],
   "source": [
    "loss_vec = []\n",
    "for i in range(365):\n",
    "    #rand_index = np.random.choice(365)\n",
    "    rand_index = i\n",
    "    x1 = x_vals[rand_index][:][:].reshape(101*101,1)\n",
    "    y  = y_vals[rand_index][:][:].reshape(101*101,1)\n",
    "    sess.run(train_step, feed_dict={x_data: x1, y_target:y})\n",
    "    temp_loss = sess.run(loss, feed_dict={x_data: x1, y_target: y})\n",
    "    loss_vec.append(temp_loss)\n",
    "    if (i+1)%25==0:\n",
    "        print('Step #' + str(i+1) + ' A = ' + str(sess.run(A)) + 'b = ' + str(sess.run(b)))\n",
    "        print('Loss = ''' + str(temp_loss))"
   ]
  },
  {
   "cell_type": "code",
   "execution_count": 11,
   "metadata": {},
   "outputs": [
    {
     "data": {
      "image/png": "[encoded data removed]",
      "text/plain": [
       "<matplotlib.figure.Figure at 0x117290400>"
      ]
     },
     "metadata": {},
     "output_type": "display_data"
    }
   ],
   "source": [
    "import matplotlib.pyplot as plt\n",
    "#colors = np.random.rand(size)\n",
    "x0 = x_vals.reshape(-1)\n",
    "y0 = y_vals.reshape(-1)\n",
    "plt.scatter(x0, y0)\n",
    "plt.show()"
   ]
  },
  {
   "cell_type": "code",
   "execution_count": null,
   "metadata": {},
   "outputs": [],
   "source": []
  }
 ],
 "metadata": {
  "kernelspec": {
   "display_name": "Python 3",
   "language": "python",
   "name": "python3"
  },
  "language_info": {
   "codemirror_mode": {
    "name": "ipython",
    "version": 3
   },
   "file_extension": ".py",
   "mimetype": "text/x-python",
   "name": "python",
   "nbconvert_exporter": "python",
   "pygments_lexer": "ipython3",
   "version": "3.6.3"
  }
 },
 "nbformat": 4,
 "nbformat_minor": 2
}
